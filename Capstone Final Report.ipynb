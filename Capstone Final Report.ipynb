{
 "cells": [
  {
   "cell_type": "markdown",
   "metadata": {},
   "source": [
    "# BATTLE OF THE NEIGHBORHOODS CAPSTONE PROJECT\n",
    "\n",
    "## __Introduction__\n",
    "\n",
    "A retail company is trying open a new store in the US. They already have gotten a shop in most of the big cities, so this time they are looking for small cities. They found two candidates, Virginia Beach and Omaha. Now its your job to compare the two cities to find out where to place the location based on neighborhood crime, price and others.\n",
    "\n",
    "## __Data__\n",
    "\n",
    "The Data for this project is from Foursquare and Wikipedia to to get information on the neighborhoods, venues, the specific coordinates and more, in a addition to a variety of python packages to create choropleth and more with locations.\n"
   ]
  }
 ],
 "metadata": {
  "kernelspec": {
   "display_name": "Python 3",
   "language": "python",
   "name": "python3"
  },
  "language_info": {
   "codemirror_mode": {
    "name": "ipython",
    "version": 3
   },
   "file_extension": ".py",
   "mimetype": "text/x-python",
   "name": "python",
   "nbconvert_exporter": "python",
   "pygments_lexer": "ipython3",
   "version": "3.7.6"
  }
 },
 "nbformat": 4,
 "nbformat_minor": 4
}
